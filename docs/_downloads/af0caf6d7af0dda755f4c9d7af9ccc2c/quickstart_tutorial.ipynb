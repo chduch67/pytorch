{
  "cells": [
    {
      "cell_type": "code",
      "execution_count": null,
      "metadata": {
        "id": "tA9dGle-y7YF"
      },
      "outputs": [],
      "source": [
        "# Google Colab에서 노트북을 실행하실 때에는\n",
        "# https://tutorials.pytorch.kr/beginner/colab 를 참고하세요.\n",
        "%matplotlib inline"
      ]
    },
    {
      "cell_type": "markdown",
      "source": [],
      "metadata": {
        "id": "4m6e-gzwzqg8"
      }
    },
    {
      "cell_type": "markdown",
      "source": [],
      "metadata": {
        "id": "R7LjLto_zqss"
      }
    },
    {
      "cell_type": "code",
      "source": [],
      "metadata": {
        "id": "SgKhNPl2zq7k"
      },
      "execution_count": null,
      "outputs": []
    },
    {
      "cell_type": "markdown",
      "metadata": {
        "id": "NAdiOLQRy7YG"
      },
      "source": [
        "[파이토치(PyTorch) 기본 익히기](intro.html) \\|\\| **빠른 시작** \\|\\|\n",
        "[텐서(Tensor)](tensorqs_tutorial.html) \\|\\| [Dataset과\n",
        "Dataloader](data_tutorial.html) \\|\\|\n",
        "[변형(Transform)](transforms_tutorial.html) \\|\\| [신경망 모델\n",
        "구성하기](buildmodel_tutorial.html) \\|\\|\n",
        "[Autograd](autogradqs_tutorial.html) \\|\\|\n",
        "[최적화(Optimization)](optimization_tutorial.html) \\|\\| [모델 저장하고\n",
        "불러오기](saveloadrun_tutorial.html)\n",
        "\n",
        "빠른 시작(Quickstart)\n",
        "=====================\n",
        "\n",
        "이번 장에서는 기계 학습의 일반적인 작업들을 위한 API를 통해 실행됩니다.\n",
        "더 자세히 알아보려면 각 장(section)의 링크를 참고하세요.\n",
        "\n",
        "데이터 작업하기\n",
        "---------------\n",
        "\n",
        "파이토치(PyTorch)에는 [데이터 작업을 위한 기본\n",
        "요소](https://pytorch.org/docs/stable/data.html) 두가지인\n",
        "`torch.utils.data.DataLoader` 와 `torch.utils.data.Dataset` 가 있습니다.\n",
        "`Dataset` 은 샘플과 정답(label)을 저장하고, `DataLoader` 는 `Dataset` 을\n",
        "순회 가능한 객체(iterable)로 감쌉니다.\n"
      ]
    },
    {
      "cell_type": "code",
      "execution_count": null,
      "metadata": {
        "id": "Y4ELfwFJy7YG"
      },
      "outputs": [],
      "source": [
        "import torch\n",
        "from torch import nn\n",
        "from torch.utils.data import DataLoader\n",
        "from torchvision import datasets\n",
        "from torchvision.transforms import ToTensor <- 텐서로 바꿔주는게 파이썬에서는 ToTensor다."
      ]
    },
    {
      "cell_type": "markdown",
      "source": [
        "데이터 셋은 그냥 자료고 읽어들어서 데이터 로더가 뉴럴네트워크가 사용하기 편한 형태로 포장하는것!!"
      ],
      "metadata": {
        "id": "-ArMVsp4z-I7"
      }
    },
    {
      "cell_type": "markdown",
      "metadata": {
        "id": "NJpYyOBmy7YG"
      },
      "source": [
        "PyTorch는 [TorchText](https://pytorch.org/text/stable/index.html),\n",
        "[TorchVision](https://pytorch.org/vision/stable/index.html) 및\n",
        "[TorchAudio](https://pytorch.org/audio/stable/index.html) 와 같이 도메인\n",
        "특화 라이브러리를 데이터셋과 함께 제공하고 있습니다. 이 튜토리얼에서는\n",
        "TorchVision 데이터셋을 사용하도록 하겠습니다.\n",
        "\n",
        "`torchvision.datasets` 모듈은 CIFAR, COCO 등과 같은 다양한 실제\n",
        "비전(vision) 데이터에 대한 `Dataset`([전체 목록은\n",
        "여기](https://pytorch.org/vision/stable/datasets.html))을 포함하고\n",
        "있습니다. 이 튜토리얼에서는 FasionMNIST 데이터셋을 사용합니다. 모든\n",
        "TorchVision `Dataset` 은 샘플과 정답을 각각 변경하기 위한 `transform` 과\n",
        "`target_transform` 의 두 인자를 포함합니다.\n"
      ]
    },
    {
      "cell_type": "code",
      "execution_count": null,
      "metadata": {
        "id": "EkP-TJWgy7YH"
      },
      "outputs": [],
      "source": [
        "# 공개 데이터셋에서 학습 데이터를 내려받습니다.\n",
        "training_data = datasets.FashionMNIST(\n",
        "    root=\"data\", <- 디렉토리 이름\n",
        "    train=True, <- 학습자료\n",
        "    download=True,\n",
        "    transform=ToTensor(), <- 읽어온 자료를 파이토치를 위한 텐서로 바꿔준다 ToTensor\n",
        ")\n",
        "\n",
        "# 공개 데이터셋에서 테스트 데이터를 내려받습니다.\n",
        "test_data = datasets.FashionMNIST(\n",
        "    root=\"data\",\n",
        "    train=False, <- 테스트자료\n",
        "    download=True,\n",
        "    transform=ToTensor(),\n",
        ")"
      ]
    },
    {
      "cell_type": "markdown",
      "metadata": {
        "id": "YC5lXVo-y7YH"
      },
      "source": [
        "`Dataset` 을 `DataLoader` 의 인자로 전달합니다. 이는 데이터셋을 순회\n",
        "가능한 객체(iterable)로 감싸고, 자동화된 배치(batch), 샘플링(sampling),\n",
        "섞기(shuffle) 및 다중 프로세스로 데이터 불러오기(multiprocess data\n",
        "loading)를 지원합니다. 여기서는 배치 크기(batch size)를 64로 정의합니다.\n",
        "즉, 데이터로더(dataloader) 객체의 각 요소는 64개의 특징(feature)과\n",
        "정답(label)을 묶음(batch)으로 반환합니다.\n"
      ]
    },
    {
      "cell_type": "code",
      "execution_count": null,
      "metadata": {
        "id": "wER3mpgRy7YH"
      },
      "outputs": [],
      "source": [
        "batch_size = 64\n",
        "\n",
        "# 데이터로더를 생성합니다.\n",
        "train_dataloader = DataLoader(training_data, batch_size=batch_size) 데이터 셋을 순회가능한 객채로 만들고, 배치사이즈는 묶음 단위로 읽어와라.\n",
        "test_dataloader = DataLoader(test_data, batch_size=batch_size)\n",
        "\n",
        "for X, y in test_dataloader:\n",
        "    print(f\"Shape of X [N, C, H, W]: {X.shape}\") <- 실제 변수가 대입되어서 값이 써짐 (f)\n",
        "    print(f\"Shape of y: {y.shape} {y.dtype}\")\n",
        "    break"
      ]
    },
    {
      "cell_type": "code",
      "source": [
        "Out : Shape of X [N, C, H, W]: torch.Size([64, 1, 28, 28])\n",
        "      Shape of y: torch.Size([64]) torch.int64"
      ],
      "metadata": {
        "id": "9MASBzRN21VM"
      },
      "execution_count": null,
      "outputs": []
    },
    {
      "cell_type": "markdown",
      "metadata": {
        "id": "V6qG2Gfxy7YH"
      },
      "source": [
        "[PyTorch에서 데이터를 불러오는 방법](data_tutorial.html) 을 자세히\n",
        "알아보세요.\n"
      ]
    },
    {
      "cell_type": "markdown",
      "metadata": {
        "id": "3NX1CUAmy7YH"
      },
      "source": [
        "------------------------------------------------------------------------\n"
      ]
    },
    {
      "cell_type": "markdown",
      "metadata": {
        "id": "E9DP8juYy7YI"
      },
      "source": [
        "모델 만들기\n",
        "===========\n",
        "\n",
        "PyTorch에서 신경망 모델은\n",
        "[nn.Module](https://pytorch.org/docs/stable/generated/torch.nn.Module.html)\n",
        "을 상속받는 클래스(class)를 생성하여 정의합니다. `__init__` 함수에서\n",
        "신경망의 계층(layer)들을 정의하고 `forward` 함수에서 신경망에 데이터를\n",
        "어떻게 전달할지 지정합니다. 가능한 경우 GPU 또는 MPS로 신경망을 이동시켜\n",
        "연산을 가속(accelerate)합니다.\n"
      ]
    },
    {
      "cell_type": "code",
      "execution_count": null,
      "metadata": {
        "id": "QvgUxskNy7YI"
      },
      "outputs": [],
      "source": [
        "# 학습에 사용할 CPU나 GPU, MPS 장치를 얻습니다.\n",
        "device = (\n",
        "    \"cuda\"\n",
        "    if torch.cuda.is_available()\n",
        "    else \"mps\"\n",
        "    if torch.backends.mps.is_available()\n",
        "    else \"cpu\"\n",
        ")\n",
        "print(f\"Using {device} device\")\n",
        "\n",
        "# 모델을 정의합니다.\n",
        "class NeuralNetwork(nn.Module): <- 파이토치에서는 nn.Module이라는 이름으로 상속받아서 신경망을 만든다.\n",
        "    def __init__(self):\n",
        "        super().__init__()\n",
        "        self.flatten = nn.Flatten() <-아까 들어온 데이터를 한 줄로 만든다.\n",
        "        self.linear_relu_stack = nn.Sequential( <-Sequential은 자료를 넣으면 밑에 순서대로 통과한다.\n",
        "            nn.Linear(28*28, 512), <- flatten 된 것을 입력을 28*28, 512개로 출력이 된다.\n",
        "            nn.ReLU(),\n",
        "            nn.Linear(512, 512),\n",
        "            nn.ReLU(),\n",
        "            nn.Linear(512, 10) nn.Linear (input, output) 개수\n",
        "        )\n",
        "\n",
        "    def forward(self, x): //nn.Module를 상속받으면 forward를 만들어야함. (tensorflow에서는 call이였다.)\n",
        "        x = self.flatten(x)\n",
        "        logits = self.linear_relu_stack(x)\n",
        "        return logits\n",
        "\n",
        "model = NeuralNetwork().to(device) <- 디바이스로 보내라.\n",
        "print(model)"
      ]
    },
    {
      "cell_type": "markdown",
      "metadata": {
        "id": "qQR0MlyVy7YI"
      },
      "source": [
        "[PyTorch에서 신경망을 정의하는 방법](buildmodel_tutorial.html) 을 자세히\n",
        "알아보세요.\n"
      ]
    },
    {
      "cell_type": "markdown",
      "metadata": {
        "id": "HR-GDqgby7YI"
      },
      "source": [
        "------------------------------------------------------------------------\n"
      ]
    },
    {
      "cell_type": "markdown",
      "metadata": {
        "id": "ozww2du5y7YI"
      },
      "source": [
        "모델 매개변수 최적화하기\n",
        "========================\n",
        "\n",
        "모델을 학습하려면 [손실 함수(loss\n",
        "function)](https://pytorch.org/docs/stable/nn.html#loss-functions) 와\n",
        "[옵티마이저(optimizer)](https://pytorch.org/docs/stable/optim.html) 가\n",
        "필요합니다.\n"
      ]
    },
    {
      "cell_type": "code",
      "execution_count": null,
      "metadata": {
        "id": "2q6UyUrDy7YI"
      },
      "outputs": [],
      "source": [
        "loss_fn = nn.CrossEntropyLoss()\n",
        "optimizer = torch.optim.SGD(model.parameters(), lr=1e-3) <- optimizer는 만들 때 뭘 대상으로 optimizing 할건지 정해줘야함   (기억하기)"
      ]
    },
    {
      "cell_type": "markdown",
      "metadata": {
        "id": "wEtT7dCyy7YI"
      },
      "source": [
        "각 학습 단계(training loop)에서 모델은 (배치(batch)로 제공되는) 학습\n",
        "데이터셋에 대한 예측을 수행하고, 예측 오류를 역전파하여 모델의\n",
        "매개변수를 조정합니다.\n"
      ]
    },
    {
      "cell_type": "code",
      "execution_count": 1,
      "metadata": {
        "colab": {
          "base_uri": "https://localhost:8080/",
          "height": 106
        },
        "id": "QsaNZ6V2y7YI",
        "outputId": "f1609ef4-a0c2-4060-c405-36059dd71dcc"
      },
      "outputs": [
        {
          "output_type": "error",
          "ename": "SyntaxError",
          "evalue": "invalid syntax (<ipython-input-1-1950c30f4de0>, line 3)",
          "traceback": [
            "\u001b[0;36m  File \u001b[0;32m\"<ipython-input-1-1950c30f4de0>\"\u001b[0;36m, line \u001b[0;32m3\u001b[0m\n\u001b[0;31m    for batch, (X, y) in enumerate(dataloader): //dataloader에서 x y 를 읽어온다\u001b[0m\n\u001b[0m                                                ^\u001b[0m\n\u001b[0;31mSyntaxError\u001b[0m\u001b[0;31m:\u001b[0m invalid syntax\n"
          ]
        }
      ],
      "source": [
        "def train(dataloader, model, loss_fn, optimizer):\n",
        "    size = len(dataloader.dataset)\n",
        "    for batch, (X, y) in enumerate(dataloader): //dataloader에서 x y 를 읽어온다\n",
        "        X, y = X.to(device), y.to(device) //같은 디바이스 내에 모델하고 데이터가 들어와야함\n",
        "\n",
        "        # 예측 오류 계산\n",
        "        pred = model(X) //model에 자료를 넣으면 foward가 logit을 리턴한다.\n",
        "        loss = loss_fn(pred, y)\n",
        "\n",
        "         역전파 (중요)\n",
        "        loss.backward() <-backward 하면서 그래디언트를 구한다 (외워라)\n",
        "        optimizer.step()\n",
        "        optimizer.zero_grad() <-optimizer에 그래디언트가 누적이된다 파이토치에서는 그래서 그래디언트를 지워줘야함 그래야 다음에 백워드할 때 값이 누적이 안되기 때문에\n",
        "\n",
        "        if batch % 100 == 0:\n",
        "            loss, current = loss.item(), (batch + 1) * len(X)\n",
        "            print(f\"loss: {loss:>7f}  [{current:>5d}/{size:>5d}]\")"
      ]
    },
    {
      "cell_type": "markdown",
      "metadata": {
        "id": "4wv0e7Xny7YI"
      },
      "source": [
        "모델이 학습하고 있는지를 확인하기 위해 테스트 데이터셋으로 모델의 성능을\n",
        "확인합니다.\n"
      ]
    },
    {
      "cell_type": "code",
      "execution_count": null,
      "metadata": {
        "id": "hAvRsLu_y7YI"
      },
      "outputs": [],
      "source": [
        "def test(dataloader, model, loss_fn):\n",
        "    size = len(dataloader.dataset)\n",
        "    num_batches = len(dataloader)\n",
        "    model.eval() //이게 꼭 있어야함\n",
        "    안에 파라미터를 변형하지 않고 있는 그대로 사용하겠다고 명시하겠다는 코드. 테스트 할때는 학습하는게 아니기 때문에 해줘야 함.\n",
        "    test_loss, correct = 0, 0\n",
        "    with torch.no_grad(): //이거 써줘야지 그래디언트계산안하고 foward만 해서 값을 구할 수 잇다.\n",
        "        for X, y in dataloader:\n",
        "            X, y = X.to(device), y.to(device)\n",
        "            pred = model(X)\n",
        "            test_loss += loss_fn(pred, y).item()\n",
        "            correct += (pred.argmax(1) == y).type(torch.float).sum().item() // pred.argmax(1)는 10개 중에서 제일 큰 argmax가 뭐냐 그거의 인덱스가 뭐냐를 물어보는 코드.\n",
        "    test_loss /= num_batches\n",
        "    correct /= size\n",
        "    print(f\"Test Error: \\n Accuracy: {(100*correct):>0.1f}%, Avg loss: {test_loss:>8f} \\n\")"
      ]
    },
    {
      "cell_type": "markdown",
      "metadata": {
        "id": "Qqy6Jf6hy7YI"
      },
      "source": [
        "학습 단계는 여러번의 반복 단계 (*에폭(epochs)*) 를 거쳐서 수행됩니다. 각\n",
        "에폭에서는 모델은 더 나은 예측을 하기 위해 매개변수를 학습합니다. 각\n",
        "에폭마다 모델의 정확도(accuracy)와 손실(loss)을 출력합니다; 에폭마다\n",
        "정확도가 증가하고 손실이 감소하는 것을 보려고 합니다.\n"
      ]
    },
    {
      "cell_type": "code",
      "execution_count": null,
      "metadata": {
        "id": "ZNrj2Ib-y7YI"
      },
      "outputs": [],
      "source": [
        "epochs = 5\n",
        "for t in range(epochs):\n",
        "    print(f\"Epoch {t+1}\\n-------------------------------\")\n",
        "    train(train_dataloader, model, loss_fn, optimizer)\n",
        "    test(test_dataloader, model, loss_fn)\n",
        "print(\"Done!\")"
      ]
    },
    {
      "cell_type": "markdown",
      "metadata": {
        "id": "pSafRuajy7YJ"
      },
      "source": [
        "[모델을 학습하는 방법](optimization_tutorial.html) 을 자세히 알아보세요.\n"
      ]
    },
    {
      "cell_type": "markdown",
      "metadata": {
        "id": "wy0c0th0y7YJ"
      },
      "source": [
        "------------------------------------------------------------------------\n"
      ]
    },
    {
      "cell_type": "markdown",
      "metadata": {
        "id": "Y_SDt91Vy7YJ"
      },
      "source": [
        "모델 저장하기\n",
        "=============\n",
        "\n",
        "모델을 저장하는 일반적인 방법은 (모델의 매개변수들을 포함하여) 내부 상태\n",
        "사전(internal state dictionary)을 직렬화(serialize)하는 것입니다.\n"
      ]
    },
    {
      "cell_type": "code",
      "execution_count": null,
      "metadata": {
        "id": "erEJMGExy7YJ"
      },
      "outputs": [],
      "source": [
        "torch.save(model.state_dict(), \"model.pth\")\n",
        "print(\"Saved PyTorch Model State to model.pth\")"
      ]
    },
    {
      "cell_type": "markdown",
      "metadata": {
        "id": "baj4XaSRy7YJ"
      },
      "source": [
        "모델 불러오기\n",
        "=============\n",
        "\n",
        "모델을 불러오는 과정에는 모델 구조를 다시 만들고 상태 사전을 모델에\n",
        "불러오는 과정이 포함됩니다.\n"
      ]
    },
    {
      "cell_type": "code",
      "execution_count": null,
      "metadata": {
        "id": "1VlbaxZ3y7YJ"
      },
      "outputs": [],
      "source": [
        "model = NeuralNetwork().to(device) //읽어오려면 모델이 먼저 있어야함 그래서 모델을 먼저 만들고 그 모델에 불러오기 하면됨.\n",
        "model.load_state_dict(torch.load(\"model.pth\"))"
      ]
    },
    {
      "cell_type": "markdown",
      "metadata": {
        "id": "NYUYS4VNy7YJ"
      },
      "source": [
        "이제 이 모델을 사용해서 예측을 할 수 있습니다.\n"
      ]
    },
    {
      "cell_type": "code",
      "execution_count": null,
      "metadata": {
        "id": "HAB0fe-Sy7YJ"
      },
      "outputs": [],
      "source": [
        "classes = [\n",
        "    \"T-shirt/top\",\n",
        "    \"Trouser\",\n",
        "    \"Pullover\",\n",
        "    \"Dress\",\n",
        "    \"Coat\",\n",
        "    \"Sandal\",\n",
        "    \"Shirt\",\n",
        "    \"Sneaker\",\n",
        "    \"Bag\",\n",
        "    \"Ankle boot\",\n",
        "]\n",
        "\n",
        "model.eval()\n",
        "x, y = test_data[0][0], test_data[0][1]\n",
        "with torch.no_grad():\n",
        "    x = x.to(device)\n",
        "    pred = model(x)\n",
        "    predicted, actual = classes[pred[0].argmax(0)], classes[y]\n",
        "    print(f'Predicted: \"{predicted}\", Actual: \"{actual}\"')"
      ]
    },
    {
      "cell_type": "markdown",
      "metadata": {
        "id": "vC3CWoGZy7YJ"
      },
      "source": [
        "[모델을 저장하고 불러오는 방법](saveloadrun_tutorial.html) 을 자세히\n",
        "알아보세요.\n"
      ]
    }
  ],
  "metadata": {
    "kernelspec": {
      "display_name": "Python 3",
      "language": "python",
      "name": "python3"
    },
    "language_info": {
      "codemirror_mode": {
        "name": "ipython",
        "version": 3
      },
      "file_extension": ".py",
      "mimetype": "text/x-python",
      "name": "python",
      "nbconvert_exporter": "python",
      "pygments_lexer": "ipython3",
      "version": "3.10.14"
    },
    "colab": {
      "provenance": []
    }
  },
  "nbformat": 4,
  "nbformat_minor": 0
}